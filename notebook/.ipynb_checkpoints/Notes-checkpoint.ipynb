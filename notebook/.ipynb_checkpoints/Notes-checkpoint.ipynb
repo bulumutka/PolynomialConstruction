{
 "cells": [
  {
   "cell_type": "markdown",
   "metadata": {},
   "source": [
    "Keywords: metric graphs,random walks, Todd polynomials."
   ]
  },
  {
   "cell_type": "markdown",
   "metadata": {},
   "source": [
    "### Formulation of problem\n",
    "We have undirected graph $G = (V, E)$.\n",
    "1. In initial moment of time single point starts moving.\n",
    "2. The passage time for each edge is fixed.\n",
    "3. In each vertex, the point with some propabolity selects one of the edge for further movement.\n",
    "4. In vertices of the valence one reflection occurse.\n",
    "5. Backward turns on edges are prohibited.\n",
    "\n",
    "Target is to count function $N(T)$, number of possible endpoints of such random walk on metric graph as a time T increases."
   ]
  },
  {
   "cell_type": "code",
   "execution_count": null,
   "metadata": {},
   "outputs": [],
   "source": []
  },
  {
   "cell_type": "raw",
   "metadata": {},
   "source": []
  },
  {
   "cell_type": "code",
   "execution_count": null,
   "metadata": {},
   "outputs": [],
   "source": []
  },
  {
   "cell_type": "code",
   "execution_count": null,
   "metadata": {},
   "outputs": [],
   "source": []
  }
 ],
 "metadata": {
  "kernelspec": {
   "display_name": "Python 3",
   "language": "python",
   "name": "python3"
  },
  "language_info": {
   "codemirror_mode": {
    "name": "ipython",
    "version": 3
   },
   "file_extension": ".py",
   "mimetype": "text/x-python",
   "name": "python",
   "nbconvert_exporter": "python",
   "pygments_lexer": "ipython3",
   "version": "3.7.4"
  }
 },
 "nbformat": 4,
 "nbformat_minor": 2
}
