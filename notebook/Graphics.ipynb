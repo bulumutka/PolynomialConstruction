{
 "cells": [
  {
   "cell_type": "code",
   "execution_count": 2,
   "metadata": {},
   "outputs": [],
   "source": [
    "import sys\n",
    "import os\n",
    "import sympy as sp\n",
    "import sympy.parsing\n",
    "import math\n",
    "from numpy import linspace\n",
    "\n",
    "module_path = os.path.abspath(os.path.join('..'))\n",
    "if module_path not in sys.path:\n",
    "    sys.path.append(module_path+\"/src/python\")\n",
    "\n",
    "import com.bulumutka.polyconstr.FindExpression as ex\n",
    "import matplotlib.pyplot as mpl\n",
    "\n",
    "\n",
    "path = '../data/'\n",
    "\n",
    "def drawPlot(expected, actual):\n",
    "    T = sp.symbols('T')\n",
    "    a = sp.lambdify(T, expected, modules=['numpy'])\n",
    "    b = sp.lambdify(T, actual, modules=['numpy'])\n",
    "    x = linspace(0, 1000, 100)\n",
    "    mpl.plot(x, b(x), 'b', label='actual')\n",
    "    mpl.plot(x, a(x), 'r', label='expected')\n",
    "    mpl.xlabel('T')\n",
    "    mpl.ylabel('R(T)')\n",
    "    mpl.legend(loc='upper left')\n",
    "    mpl.show()\n",
    "    \n",
    "def indSample(size):\n",
    "    primes = []\n",
    "    for i in range(2, 10000):\n",
    "        isPrime = True\n",
    "        for j in range(2, int(math.sqrt(i) + 1)):\n",
    "            if i % j is  0:\n",
    "                isPrime = False\n",
    "        if isPrime:\n",
    "            primes.append(math.sqrt(i))\n",
    "            if (len(primes) is size):\n",
    "                break\n",
    "    return primes"
   ]
  },
  {
   "cell_type": "markdown",
   "metadata": {},
   "source": [
    "$K_3$ graph"
   ]
  },
  {
   "cell_type": "code",
   "execution_count": 6,
   "metadata": {},
   "outputs": [
    {
     "name": "stdout",
     "output_type": "stream",
     "text": [
      "[1.4142135623730951, 1.7320508075688772, 2.23606797749979, 2.6457513110645907, 3.3166247903554, 3.605551275463989]\n"
     ]
    },
    {
     "data": {
      "text/latex": [
       "$\\displaystyle 0.245668736556965 T^{2} + 0.865835322938065 T$"
      ],
      "text/plain": [
       "0.245668736556965*T**2 + 0.865835322938065*T"
      ]
     },
     "execution_count": 6,
     "metadata": {},
     "output_type": "execute_result"
    }
   ],
   "source": [
    "# Expected\n",
    "T = sp.symbols('T')\n",
    "print(indSample(6))\n",
    "expected_formulas = ex.find_k_graph(3, indSample(3))\n",
    "expected_formulas"
   ]
  },
  {
   "cell_type": "code",
   "execution_count": 4,
   "metadata": {},
   "outputs": [
    {
     "data": {
      "text/latex": [
       "$\\displaystyle 0.245668736556966 T^{2} + 4.32917661469033 T + 10.3701600996554$"
      ],
      "text/plain": [
       "0.245668736556966*T**2 + 4.32917661469033*T + 10.3701600996554"
      ]
     },
     "execution_count": 4,
     "metadata": {},
     "output_type": "execute_result"
    }
   ],
   "source": [
    "# Actual\n",
    "v = ex.read_vector(path + 'K3_graph_vector.txt')\n",
    "actual_formulas = ex.find_polynomial(v)\n",
    "actual_formulas"
   ]
  },
  {
   "cell_type": "code",
   "execution_count": 5,
   "metadata": {},
   "outputs": [
    {
     "data": {
      "image/png": "[encoded data removed]",
      "text/plain": [
       "<Figure size 432x288 with 1 Axes>"
      ]
     },
     "metadata": {
      "needs_background": "light"
     },
     "output_type": "display_data"
    }
   ],
   "source": [
    "mpl.title('Actual and expected polynoms for K_3')\n",
    "drawPlot(expected_formulas, actual_formulas)"
   ]
  },
  {
   "cell_type": "markdown",
   "metadata": {},
   "source": [
    "$K_4$ graph"
   ]
  },
  {
   "cell_type": "code",
   "execution_count": null,
   "metadata": {},
   "outputs": [],
   "source": [
    "# Expected\n",
    "expected_formulas = ex.find_k_graph(4, indSample(6))\n",
    "expected_formulas"
   ]
  },
  {
   "cell_type": "code",
   "execution_count": null,
   "metadata": {},
   "outputs": [],
   "source": [
    "# Actual\n",
    "v = ex.read_vector(path + 'K4_graph_vector.txt')\n",
    "actual_formulas = ex.find_polynomial(v)\n",
    "actual_formulas"
   ]
  },
  {
   "cell_type": "code",
   "execution_count": null,
   "metadata": {},
   "outputs": [],
   "source": [
    "mpl.title('Actual and expected polynoms for K_4')\n",
    "drawPlot(expected_formulas, actual_formulas)"
   ]
  },
  {
   "cell_type": "markdown",
   "metadata": {},
   "source": [
    "$K_5 graph$"
   ]
  },
  {
   "cell_type": "code",
   "execution_count": null,
   "metadata": {},
   "outputs": [],
   "source": [
    "# Expected\n",
    "expected_formulas = ex.find_k_graph(5, indSample(10))\n",
    "expected_formulas"
   ]
  },
  {
   "cell_type": "code",
   "execution_count": null,
   "metadata": {},
   "outputs": [],
   "source": [
    "# Actual\n",
    "v = ex.read_vector(path + 'K5_graph_vector.txt')\n",
    "actual_formulas = ex.find_polynomial(v)\n",
    "actual_formulas"
   ]
  },
  {
   "cell_type": "code",
   "execution_count": null,
   "metadata": {},
   "outputs": [],
   "source": [
    "mpl.title('Actual and expected polynoms for K_5')\n",
    "drawPlot(expected_formulas, actual_formulas)"
   ]
  },
  {
   "cell_type": "markdown",
   "metadata": {},
   "source": [
    "$C_4 graph$"
   ]
  },
  {
   "cell_type": "code",
   "execution_count": null,
   "metadata": {},
   "outputs": [],
   "source": [
    "expected_formulas = ex.find_cycle_graph(4, [1 for i in range(4)])\n",
    "expected_formulas"
   ]
  },
  {
   "cell_type": "code",
   "execution_count": null,
   "metadata": {},
   "outputs": [],
   "source": [
    "v = ex.read_vector(path + 'cycle_4_vector.txt')\n",
    "actual_formulas = ex.find_polynomial(v)\n",
    "actual_formulas"
   ]
  },
  {
   "cell_type": "code",
   "execution_count": null,
   "metadata": {},
   "outputs": [],
   "source": [
    "drawPlot(expected_formulas, actual_formulas)"
   ]
  },
  {
   "cell_type": "markdown",
   "metadata": {},
   "source": [
    "$C_6 graph$"
   ]
  },
  {
   "cell_type": "code",
   "execution_count": null,
   "metadata": {},
   "outputs": [],
   "source": [
    "v = ex.read_vector(path + 'cycle_6_vector.txt')\n",
    "expected_formulas = ex.find_cycle_graph(6, [1 for i in range(6)])\n",
    "expected_formulas"
   ]
  },
  {
   "cell_type": "code",
   "execution_count": null,
   "metadata": {},
   "outputs": [],
   "source": [
    "actual_formulas = ex.find_polynomial(v)\n",
    "actual_formulas"
   ]
  },
  {
   "cell_type": "code",
   "execution_count": null,
   "metadata": {},
   "outputs": [],
   "source": [
    "drawPlot(expected_formulas, actual_formulas)"
   ]
  },
  {
   "cell_type": "markdown",
   "metadata": {},
   "source": [
    "$C_{10} graph$"
   ]
  },
  {
   "cell_type": "code",
   "execution_count": null,
   "metadata": {},
   "outputs": [],
   "source": [
    "v = ex.read_vector(path + 'cycle_10_vector.txt')\n",
    "expected_formulas = ex.find_cycle_graph(10, [1 for i in range(10)])\n",
    "expected_formulas"
   ]
  },
  {
   "cell_type": "code",
   "execution_count": null,
   "metadata": {},
   "outputs": [],
   "source": [
    "actual_formulas = ex.find_polynomial(v)\n",
    "actual_formulas"
   ]
  },
  {
   "cell_type": "code",
   "execution_count": null,
   "metadata": {},
   "outputs": [],
   "source": [
    "drawPlot(expected_formulas, actual_formulas)"
   ]
  },
  {
   "cell_type": "markdown",
   "metadata": {},
   "source": [
    "$C_{16} graph$"
   ]
  },
  {
   "cell_type": "code",
   "execution_count": null,
   "metadata": {},
   "outputs": [],
   "source": [
    "v = ex.read_vector(path + 'cycle_16_vector.txt')\n",
    "expected_formulas = ex.find_cycle_graph(16, [1 for i in range(16)])\n",
    "expected_formulas"
   ]
  },
  {
   "cell_type": "code",
   "execution_count": null,
   "metadata": {},
   "outputs": [],
   "source": [
    "actual_formulas = ex.find_polynomial(v)\n",
    "actual_formulas"
   ]
  },
  {
   "cell_type": "code",
   "execution_count": null,
   "metadata": {},
   "outputs": [],
   "source": [
    "drawPlot(expected_formulas, actual_formulas)"
   ]
  },
  {
   "cell_type": "code",
   "execution_count": null,
   "metadata": {},
   "outputs": [],
   "source": [
    "s = '0.0125*T**5 + 0.78125*T**4 + 14.0625*T**3 + 97.34375*T**2 + 263.90625*T + 240.578125'\n",
    "T = sp.symbols('T')\n",
    "e = sympy.parsing.sympy_parser.parse_expr(s)\n",
    "e"
   ]
  }
 ],
 "metadata": {
  "kernelspec": {
   "display_name": "Python 3",
   "language": "python",
   "name": "python3"
  },
  "language_info": {
   "codemirror_mode": {
    "name": "ipython",
    "version": 3
   },
   "file_extension": ".py",
   "mimetype": "text/x-python",
   "name": "python",
   "nbconvert_exporter": "python",
   "pygments_lexer": "ipython3",
   "version": "3.7.5"
  }
 },
 "nbformat": 4,
 "nbformat_minor": 4
}
