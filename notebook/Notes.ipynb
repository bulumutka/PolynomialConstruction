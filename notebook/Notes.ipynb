{
 "cells": [
  {
   "cell_type": "markdown",
   "metadata": {},
   "source": [
    "Keywords: metric graphs, random walks, Todd polynomials."
   ]
  },
  {
   "cell_type": "markdown",
   "metadata": {},
   "source": [
    "# Formulation of problem\n",
    "We have undirected, connected graph $Г = (V, E)$. \n",
    "\n",
    "1. Each edge $e_{i}$ has length $t_{i}$.\n",
    "2. $s \\in V(Г)$ - is source.\n",
    "3. In initial moment of time points starts moving along all edges incident to $s$.\n",
    "4. When the point occurs at the vertex $v$, new points start moving along all edges incident to $v$.\n",
    "\n",
    "Target is to count function $N(T)$, number of points that move along the graph at the time point T."
   ]
  },
  {
   "cell_type": "markdown",
   "metadata": {},
   "source": [
    "# Some formulas\n",
    "\n",
    "![title](img/Theorem_2.png)\n",
    "\n"
   ]
  },
  {
   "cell_type": "markdown",
   "metadata": {},
   "source": [
    "# Alogrithm\n",
    "\n",
    "1. Look overa all $G \\subset Г$, where $s \\in G$.\n",
    "2. Precalculate some functions (isthmus, $C_{G,v}$, vertex degree).\n",
    "3. Calculate Barnes' multiple Bernoulli polynomial.\n",
    "\n"
   ]
  }
 ],
 "metadata": {
  "kernelspec": {
   "display_name": "Python 3",
   "language": "python",
   "name": "python3"
  },
  "language_info": {
   "codemirror_mode": {
    "name": "ipython",
    "version": 3
   },
   "file_extension": ".py",
   "mimetype": "text/x-python",
   "name": "python",
   "nbconvert_exporter": "python",
   "pygments_lexer": "ipython3",
   "version": "3.7.5"
  }
 },
 "nbformat": 4,
 "nbformat_minor": 2
}
