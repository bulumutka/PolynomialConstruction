{
 "cells": [
  {
   "cell_type": "code",
   "execution_count": 1,
   "metadata": {},
   "outputs": [],
   "source": [
    "import sys\n",
    "import os\n",
    "import sympy as sp\n",
    "import sympy.parsing\n",
    "import math\n",
    "from numpy import linspace\n",
    "\n",
    "module_path = os.path.abspath(os.path.join('..'))\n",
    "if module_path not in sys.path:\n",
    "    sys.path.append(module_path + \"/src/python\")\n",
    "\n",
    "import com.bulumutka.polyconstr.FindExpression as ex\n",
    "import matplotlib.pyplot as mpl\n",
    "\n",
    "\n",
    "path = '../data/'\n",
    "\n",
    "def drawPlot(expected, actual):\n",
    "    T = sp.symbols('T')\n",
    "    a = sp.lambdify(T, expected, modules=['numpy'])\n",
    "    b = sp.lambdify(T, actual, modules=['numpy'])\n",
    "    x = linspace(0, 1000, 100)\n",
    "    mpl.plot(x, b(x), 'b', label='actual')\n",
    "    mpl.plot(x, a(x), 'r', label='expected')\n",
    "    mpl.xlabel('T')\n",
    "    mpl.ylabel('R(T)')\n",
    "    mpl.legend(loc='upper left')\n",
    "    mpl.show()\n",
    "    \n",
    "def indSample(size):\n",
    "    primes = []\n",
    "    for i in range(2, 10000):\n",
    "        isPrime = True\n",
    "        for j in range(2, int(math.sqrt(i) + 1)):\n",
    "            if i % j is  0:\n",
    "                isPrime = False\n",
    "        if isPrime:\n",
    "            primes.append(math.sqrt(i))\n",
    "            if (len(primes) is size):\n",
    "                break\n",
    "    return primes"
   ]
  },
  {
   "cell_type": "markdown",
   "metadata": {},
   "source": [
    "## $K_3 graph$"
   ]
  },
  {
   "cell_type": "code",
   "execution_count": 2,
   "metadata": {},
   "outputs": [
    {
     "data": {
      "text/latex": [
       "$\\displaystyle 0.245668736556965 T^{2} + 0.865835322938065 T$"
      ],
      "text/plain": [
       "0.245668736556965*T**2 + 0.865835322938065*T"
      ]
     },
     "execution_count": 2,
     "metadata": {},
     "output_type": "execute_result"
    }
   ],
   "source": [
    "# Expected\n",
    "ex.find_k_graph(3, indSample(3))"
   ]
  },
  {
   "cell_type": "code",
   "execution_count": 3,
   "metadata": {},
   "outputs": [
    {
     "data": {
      "text/latex": [
       "$\\displaystyle 0.245668736556966 T^{2} + 0.865835322938066 T - 1.79005336655181$"
      ],
      "text/plain": [
       "0.245668736556966*T**2 + 0.865835322938066*T - 1.79005336655181"
      ]
     },
     "execution_count": 3,
     "metadata": {},
     "output_type": "execute_result"
    }
   ],
   "source": [
    "# Actual\n",
    "ex.find_polynomial(ex.read_vector(path + 'K3_graph_vector.txt'))"
   ]
  },
  {
   "cell_type": "markdown",
   "metadata": {},
   "source": [
    "## $K_4 graph$"
   ]
  },
  {
   "cell_type": "code",
   "execution_count": 4,
   "metadata": {},
   "outputs": [
    {
     "data": {
      "text/latex": [
       "$\\displaystyle 0.000179733832128903 T^{5} + 0.00548540127135396 T^{4}$"
      ],
      "text/plain": [
       "0.000179733832128903*T**5 + 0.00548540127135396*T**4"
      ]
     },
     "execution_count": 4,
     "metadata": {},
     "output_type": "execute_result"
    }
   ],
   "source": [
    "# Expected\n",
    "ex.find_k_graph(4, indSample(6))"
   ]
  },
  {
   "cell_type": "code",
   "execution_count": 5,
   "metadata": {},
   "outputs": [
    {
     "data": {
      "text/latex": [
       "$\\displaystyle 0.000179733832128903 T^{5} + 0.00548540127135396 T^{4} - 0.186890060285359 T^{3} - 7.22200209168712 T^{2} - 67.631222975674 T - 175.023048280594$"
      ],
      "text/plain": [
       "0.000179733832128903*T**5 + 0.00548540127135396*T**4 - 0.186890060285359*T**3 - 7.22200209168712*T**2 - 67.631222975674*T - 175.023048280594"
      ]
     },
     "execution_count": 5,
     "metadata": {},
     "output_type": "execute_result"
    }
   ],
   "source": [
    "# Actual\n",
    "ex.find_polynomial(ex.read_vector(path + 'K4_graph_vector.txt'))"
   ]
  },
  {
   "cell_type": "markdown",
   "metadata": {},
   "source": [
    "## $K_5 graph$"
   ]
  },
  {
   "cell_type": "code",
   "execution_count": 6,
   "metadata": {},
   "outputs": [
    {
     "data": {
      "text/latex": [
       "$\\displaystyle 1.43951362146071 \\cdot 10^{-10} T^{9} + 1.92880002437525 \\cdot 10^{-8} T^{8}$"
      ],
      "text/plain": [
       "1.43951362146071e-10*T**9 + 1.92880002437525e-8*T**8"
      ]
     },
     "execution_count": 6,
     "metadata": {},
     "output_type": "execute_result"
    }
   ],
   "source": [
    "# Expected\n",
    "ex.find_k_graph(5, indSample(10))"
   ]
  },
  {
   "cell_type": "code",
   "execution_count": 7,
   "metadata": {},
   "outputs": [
    {
     "data": {
      "text/latex": [
       "$\\displaystyle 1.43951362146071 \\cdot 10^{-10} T^{9} + 1.92880002437525 \\cdot 10^{-8} T^{8} - 3.30481048139957 \\cdot 10^{-6} T^{7} - 0.0008450433041888 T^{6} - 0.070506338630472 T^{5} - 2.99376036064941 T^{4} - 71.4456139705624 T^{3} - 965.308186733655 T^{2} - 6984.3158371285 T - 21404.7083710041$"
      ],
      "text/plain": [
       "1.43951362146071e-10*T**9 + 1.92880002437525e-8*T**8 - 3.30481048139957e-6*T**7 - 0.0008450433041888*T**6 - 0.070506338630472*T**5 - 2.99376036064941*T**4 - 71.4456139705624*T**3 - 965.308186733655*T**2 - 6984.3158371285*T - 21404.7083710041"
      ]
     },
     "execution_count": 7,
     "metadata": {},
     "output_type": "execute_result"
    }
   ],
   "source": [
    "# Actual\n",
    "ex.find_polynomial(ex.read_vector(path + 'K5_graph_vector.txt'))"
   ]
  },
  {
   "cell_type": "markdown",
   "metadata": {},
   "source": [
    "## $C_4 graph$"
   ]
  },
  {
   "cell_type": "code",
   "execution_count": 8,
   "metadata": {},
   "outputs": [
    {
     "data": {
      "text/latex": [
       "$\\displaystyle 0.02308293350106 T^{3} + 0.204648116165248 T^{2}$"
      ],
      "text/plain": [
       "0.02308293350106*T**3 + 0.204648116165248*T**2"
      ]
     },
     "execution_count": 8,
     "metadata": {},
     "output_type": "execute_result"
    }
   ],
   "source": [
    "ex.find_cycle_graph(4, indSample(4))"
   ]
  },
  {
   "cell_type": "code",
   "execution_count": 9,
   "metadata": {},
   "outputs": [
    {
     "data": {
      "text/latex": [
       "$\\displaystyle 0.02308293350106 T^{3} + 0.204648116165248 T^{2} - 2.25192715405649 T - 5.87197842989928$"
      ],
      "text/plain": [
       "0.02308293350106*T**3 + 0.204648116165248*T**2 - 2.25192715405649*T - 5.87197842989928"
      ]
     },
     "execution_count": 9,
     "metadata": {},
     "output_type": "execute_result"
    }
   ],
   "source": [
    "ex.find_polynomial(ex.read_vector(path + 'cycle_4_vector.txt'))"
   ]
  },
  {
   "cell_type": "markdown",
   "metadata": {},
   "source": [
    "## $C_6 graph$"
   ]
  },
  {
   "cell_type": "code",
   "execution_count": 10,
   "metadata": {},
   "outputs": [
    {
     "data": {
      "text/latex": [
       "$\\displaystyle 4.49334580322256 \\cdot 10^{-5} T^{5} + 0.00137135031783849 T^{4}$"
      ],
      "text/plain": [
       "4.49334580322256e-5*T**5 + 0.00137135031783849*T**4"
      ]
     },
     "execution_count": 10,
     "metadata": {},
     "output_type": "execute_result"
    }
   ],
   "source": [
    "ex.find_cycle_graph(6, indSample(6))"
   ]
  },
  {
   "cell_type": "code",
   "execution_count": 11,
   "metadata": {},
   "outputs": [
    {
     "data": {
      "text/latex": [
       "$\\displaystyle 4.49334580322256 \\cdot 10^{-5} T^{5} + 0.00137135031783849 T^{4} - 0.0934195162231905 T^{3} - 1.23892718952221 T^{2} - 9.71369007022283 T - 28.3790482805707$"
      ],
      "text/plain": [
       "4.49334580322256e-5*T**5 + 0.00137135031783849*T**4 - 0.0934195162231905*T**3 - 1.23892718952221*T**2 - 9.71369007022283*T - 28.3790482805707"
      ]
     },
     "execution_count": 11,
     "metadata": {},
     "output_type": "execute_result"
    }
   ],
   "source": [
    "ex.find_polynomial(ex.read_vector(path + 'cycle_6_vector.txt'))"
   ]
  },
  {
   "cell_type": "markdown",
   "metadata": {},
   "source": [
    "## $C_8 graph$"
   ]
  },
  {
   "cell_type": "code",
   "execution_count": 12,
   "metadata": {},
   "outputs": [
    {
     "data": {
      "text/latex": [
       "$\\displaystyle 2.33251700939505 \\cdot 10^{-8} T^{7} + 1.64469714181723 \\cdot 10^{-6} T^{6}$"
      ],
      "text/plain": [
       "2.33251700939505e-8*T**7 + 1.64469714181723e-6*T**6"
      ]
     },
     "execution_count": 12,
     "metadata": {},
     "output_type": "execute_result"
    }
   ],
   "source": [
    "ex.find_cycle_graph(8, indSample(8))"
   ]
  },
  {
   "cell_type": "code",
   "execution_count": 13,
   "metadata": {},
   "outputs": [
    {
     "data": {
      "text/latex": [
       "$\\displaystyle 2.33251700939505 \\cdot 10^{-8} T^{7} + 1.64469714181723 \\cdot 10^{-6} T^{6} - 0.000335698769766793 T^{5} - 0.0101840680208207 T^{4} - 0.267137049118983 T^{3} - 3.78577205181288 T^{2} - 29.9037389153127 T - 97.5512202463168$"
      ],
      "text/plain": [
       "2.33251700939505e-8*T**7 + 1.64469714181723e-6*T**6 - 0.000335698769766793*T**5 - 0.0101840680208207*T**4 - 0.267137049118983*T**3 - 3.78577205181288*T**2 - 29.9037389153127*T - 97.5512202463168"
      ]
     },
     "execution_count": 13,
     "metadata": {},
     "output_type": "execute_result"
    }
   ],
   "source": [
    "ex.find_polynomial(ex.read_vector(path + 'cycle_8_vector.txt'))"
   ]
  },
  {
   "cell_type": "markdown",
   "metadata": {},
   "source": [
    "## $C_{10} graph$"
   ]
  },
  {
   "cell_type": "code",
   "execution_count": 14,
   "metadata": {},
   "outputs": [
    {
     "data": {
      "text/latex": [
       "$\\displaystyle 4.49848006706471 \\cdot 10^{-12} T^{9} + 6.02750007617266 \\cdot 10^{-10} T^{8}$"
      ],
      "text/plain": [
       "4.49848006706471e-12*T**9 + 6.02750007617266e-10*T**8"
      ]
     },
     "execution_count": 14,
     "metadata": {},
     "output_type": "execute_result"
    }
   ],
   "source": [
    "ex.find_cycle_graph(10, indSample(10))"
   ]
  },
  {
   "cell_type": "code",
   "execution_count": 15,
   "metadata": {},
   "outputs": [
    {
     "data": {
      "text/latex": [
       "$\\displaystyle 4.49848006706471 \\cdot 10^{-12} T^{9} + 6.02750007617266 \\cdot 10^{-10} T^{8} - 2.70388270883481 \\cdot 10^{-7} T^{7} - 1.46693053612537 \\cdot 10^{-5} T^{6} - 0.000853253583747012 T^{5} - 0.0287776020442757 T^{4} - 0.681312811429877 T^{3} - 9.93109528587363 T^{2} - 82.5546124861051 T - 299.543783129458$"
      ],
      "text/plain": [
       "4.49848006706471e-12*T**9 + 6.02750007617266e-10*T**8 - 2.70388270883481e-7*T**7 - 1.46693053612537e-5*T**6 - 0.000853253583747012*T**5 - 0.0287776020442757*T**4 - 0.681312811429877*T**3 - 9.93109528587363*T**2 - 82.5546124861051*T - 299.543783129458"
      ]
     },
     "execution_count": 15,
     "metadata": {},
     "output_type": "execute_result"
    }
   ],
   "source": [
    "ex.find_polynomial(ex.read_vector(path + 'cycle_10_vector.txt'))"
   ]
  },
  {
   "cell_type": "markdown",
   "metadata": {},
   "source": [
    "## $C_{16} graph$"
   ]
  },
  {
   "cell_type": "code",
   "execution_count": 16,
   "metadata": {},
   "outputs": [
    {
     "data": {
      "text/latex": [
       "$\\displaystyle 5.91620376517336 \\cdot 10^{-25} T^{15} + 2.97709806534334 \\cdot 10^{-22} T^{14}$"
      ],
      "text/plain": [
       "5.91620376517336e-25*T**15 + 2.97709806534334e-22*T**14"
      ]
     },
     "execution_count": 16,
     "metadata": {},
     "output_type": "execute_result"
    }
   ],
   "source": [
    "ex.find_cycle_graph(16, indSample(16))"
   ]
  },
  {
   "cell_type": "code",
   "execution_count": 17,
   "metadata": {},
   "outputs": [
    {
     "data": {
      "text/latex": [
       "$\\displaystyle 5.91620376517336 \\cdot 10^{-25} T^{15} + 2.97709806534334 \\cdot 10^{-22} T^{14} - 6.18411150301209 \\cdot 10^{-19} T^{13} - 9.74583488743771 \\cdot 10^{-17} T^{12} - 2.75734629170327 \\cdot 10^{-14} T^{11} - 4.03705480120557 \\cdot 10^{-12} T^{10} - 5.54432355047193 \\cdot 10^{-10} T^{9} - 5.31972333749899 \\cdot 10^{-8} T^{8} - 4.11016154633956 \\cdot 10^{-6} T^{7} - 0.000237818620892805 T^{6} - 0.0105840410297481 T^{5} - 0.349094383674949 T^{4} - 8.36524888338142 T^{3} - 137.218095937196 T^{2} - 1387.03838685772 T - 6529.65487061732$"
      ],
      "text/plain": [
       "5.91620376517336e-25*T**15 + 2.97709806534334e-22*T**14 - 6.18411150301209e-19*T**13 - 9.74583488743771e-17*T**12 - 2.75734629170327e-14*T**11 - 4.03705480120557e-12*T**10 - 5.54432355047193e-10*T**9 - 5.31972333749899e-8*T**8 - 4.11016154633956e-6*T**7 - 0.000237818620892805*T**6 - 0.0105840410297481*T**5 - 0.349094383674949*T**4 - 8.36524888338142*T**3 - 137.218095937196*T**2 - 1387.03838685772*T - 6529.65487061732"
      ]
     },
     "execution_count": 17,
     "metadata": {},
     "output_type": "execute_result"
    }
   ],
   "source": [
    "ex.find_polynomial(ex.read_vector(path + 'cycle_16_vector.txt'))"
   ]
  }
 ],
 "metadata": {
  "kernelspec": {
   "display_name": "Python 3",
   "language": "python",
   "name": "python3"
  },
  "language_info": {
   "codemirror_mode": {
    "name": "ipython",
    "version": 3
   },
   "file_extension": ".py",
   "mimetype": "text/x-python",
   "name": "python",
   "nbconvert_exporter": "python",
   "pygments_lexer": "ipython3",
   "version": "3.7.5"
  }
 },
 "nbformat": 4,
 "nbformat_minor": 4
}
